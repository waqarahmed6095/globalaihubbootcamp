{
  "cells": [
    {
      "cell_type": "markdown",
      "metadata": {
        "id": "view-in-github",
        "colab_type": "text"
      },
      "source": [
        "<a href=\"https://colab.research.google.com/github/waqarahmed6095/globalaihubbootcamp/blob/main/Dphi.ipynb\" target=\"_parent\"><img src=\"https://colab.research.google.com/assets/colab-badge.svg\" alt=\"Open In Colab\"/></a>"
      ]
    },
    {
      "cell_type": "markdown",
      "source": [
        "# Import essential libraries\n",
        "\n",
        "\n",
        "\n"
      ],
      "metadata": {
        "id": "Kgp7uMRkWBaS"
      }
    },
    {
      "cell_type": "code",
      "execution_count": null,
      "metadata": {
        "id": "S-c4dStd7JiG"
      },
      "outputs": [],
      "source": [
        "#Standard libraries\n",
        "import pandas as pd\n",
        "import numpy as np\n",
        "import matplotlib.pyplot as plt\n",
        "import seaborn as sns\n",
        "\n",
        "#Preprocessing libraries\n",
        "from sklearn.model_selection import train_test_split \n",
        "from sklearn.preprocessing import StandardScaler\n",
        "\n",
        "#ML Models\n",
        "from sklearn.linear_model import LogisticRegression\n",
        "from sklearn.svm import LinearSVC\n",
        "from sklearn.tree import DecisionTreeClassifier\n",
        "from sklearn.ensemble import RandomForestClassifier\n",
        "from sklearn.naive_bayes import GaussianNB\n",
        "from sklearn.neural_network import MLPClassifier\n",
        "\n",
        "\n",
        "#Performance evaluation libraries\n",
        "from sklearn.metrics import confusion_matrix, classification_report"
      ]
    },
    {
      "cell_type": "markdown",
      "source": [
        "# Load data"
      ],
      "metadata": {
        "id": "aevjr6DdXSJL"
      }
    },
    {
      "cell_type": "code",
      "execution_count": null,
      "metadata": {
        "id": "HLx4Ufk47TRI"
      },
      "outputs": [],
      "source": [
        "train_data = pd.read_csv(\"Train_data.csv\")\n",
        "test_data = pd.read_csv(\"Test_data.csv\")"
      ]
    },
    {
      "cell_type": "code",
      "source": [
        "train_data.head()"
      ],
      "metadata": {
        "colab": {
          "base_uri": "https://localhost:8080/",
          "height": 206
        },
        "id": "lbHZ_8KKY-7O",
        "outputId": "d13438f6-b966-4bd2-e5ad-af22f4534996"
      },
      "execution_count": null,
      "outputs": [
        {
          "output_type": "execute_result",
          "data": {
            "text/plain": [
              "     GP   MIN   PTS  FGM  FGA   FG%  3P Made  3PA   3P%  FTM  FTA   FT%  OREB  \\\n",
              "0  59.0  12.8   3.4  1.3  2.6  51.0      0.2  0.3  50.0  0.7  0.8  78.0   1.1   \n",
              "1  31.0  10.7   3.4  1.2  3.3  35.3      0.5  2.1  25.8  0.5  0.9  55.2   0.3   \n",
              "2  48.0   9.3   4.5  1.7  3.4  49.7      0.0  0.1   0.0  1.2  1.9  61.5   0.4   \n",
              "3  80.0  27.7  11.2  3.5  9.4  37.4      1.3  4.1  32.9  2.8  3.3  85.0   0.8   \n",
              "4  58.0  18.4   5.8  1.9  5.3  36.7      0.0  0.1  25.0  1.9  3.1  61.7   0.5   \n",
              "\n",
              "   DREB  REB  AST  STL  BLK  TOV  Target  \n",
              "0   2.3  3.3  0.5  0.3  0.4  0.5       1  \n",
              "1   1.1  1.4  0.4  0.3  0.1  0.2       0  \n",
              "2   0.8  1.2  0.8  0.5  0.4  1.0       0  \n",
              "3   1.6  2.4  3.9  1.3  0.1  2.2       1  \n",
              "4   0.7  1.2  1.9  1.1  0.2  1.7       0  "
            ],
            "text/html": [
              "\n",
              "  <div id=\"df-5e111240-1909-4214-9d50-3c8205cd50cc\">\n",
              "    <div class=\"colab-df-container\">\n",
              "      <div>\n",
              "<style scoped>\n",
              "    .dataframe tbody tr th:only-of-type {\n",
              "        vertical-align: middle;\n",
              "    }\n",
              "\n",
              "    .dataframe tbody tr th {\n",
              "        vertical-align: top;\n",
              "    }\n",
              "\n",
              "    .dataframe thead th {\n",
              "        text-align: right;\n",
              "    }\n",
              "</style>\n",
              "<table border=\"1\" class=\"dataframe\">\n",
              "  <thead>\n",
              "    <tr style=\"text-align: right;\">\n",
              "      <th></th>\n",
              "      <th>GP</th>\n",
              "      <th>MIN</th>\n",
              "      <th>PTS</th>\n",
              "      <th>FGM</th>\n",
              "      <th>FGA</th>\n",
              "      <th>FG%</th>\n",
              "      <th>3P Made</th>\n",
              "      <th>3PA</th>\n",
              "      <th>3P%</th>\n",
              "      <th>FTM</th>\n",
              "      <th>FTA</th>\n",
              "      <th>FT%</th>\n",
              "      <th>OREB</th>\n",
              "      <th>DREB</th>\n",
              "      <th>REB</th>\n",
              "      <th>AST</th>\n",
              "      <th>STL</th>\n",
              "      <th>BLK</th>\n",
              "      <th>TOV</th>\n",
              "      <th>Target</th>\n",
              "    </tr>\n",
              "  </thead>\n",
              "  <tbody>\n",
              "    <tr>\n",
              "      <th>0</th>\n",
              "      <td>59.0</td>\n",
              "      <td>12.8</td>\n",
              "      <td>3.4</td>\n",
              "      <td>1.3</td>\n",
              "      <td>2.6</td>\n",
              "      <td>51.0</td>\n",
              "      <td>0.2</td>\n",
              "      <td>0.3</td>\n",
              "      <td>50.0</td>\n",
              "      <td>0.7</td>\n",
              "      <td>0.8</td>\n",
              "      <td>78.0</td>\n",
              "      <td>1.1</td>\n",
              "      <td>2.3</td>\n",
              "      <td>3.3</td>\n",
              "      <td>0.5</td>\n",
              "      <td>0.3</td>\n",
              "      <td>0.4</td>\n",
              "      <td>0.5</td>\n",
              "      <td>1</td>\n",
              "    </tr>\n",
              "    <tr>\n",
              "      <th>1</th>\n",
              "      <td>31.0</td>\n",
              "      <td>10.7</td>\n",
              "      <td>3.4</td>\n",
              "      <td>1.2</td>\n",
              "      <td>3.3</td>\n",
              "      <td>35.3</td>\n",
              "      <td>0.5</td>\n",
              "      <td>2.1</td>\n",
              "      <td>25.8</td>\n",
              "      <td>0.5</td>\n",
              "      <td>0.9</td>\n",
              "      <td>55.2</td>\n",
              "      <td>0.3</td>\n",
              "      <td>1.1</td>\n",
              "      <td>1.4</td>\n",
              "      <td>0.4</td>\n",
              "      <td>0.3</td>\n",
              "      <td>0.1</td>\n",
              "      <td>0.2</td>\n",
              "      <td>0</td>\n",
              "    </tr>\n",
              "    <tr>\n",
              "      <th>2</th>\n",
              "      <td>48.0</td>\n",
              "      <td>9.3</td>\n",
              "      <td>4.5</td>\n",
              "      <td>1.7</td>\n",
              "      <td>3.4</td>\n",
              "      <td>49.7</td>\n",
              "      <td>0.0</td>\n",
              "      <td>0.1</td>\n",
              "      <td>0.0</td>\n",
              "      <td>1.2</td>\n",
              "      <td>1.9</td>\n",
              "      <td>61.5</td>\n",
              "      <td>0.4</td>\n",
              "      <td>0.8</td>\n",
              "      <td>1.2</td>\n",
              "      <td>0.8</td>\n",
              "      <td>0.5</td>\n",
              "      <td>0.4</td>\n",
              "      <td>1.0</td>\n",
              "      <td>0</td>\n",
              "    </tr>\n",
              "    <tr>\n",
              "      <th>3</th>\n",
              "      <td>80.0</td>\n",
              "      <td>27.7</td>\n",
              "      <td>11.2</td>\n",
              "      <td>3.5</td>\n",
              "      <td>9.4</td>\n",
              "      <td>37.4</td>\n",
              "      <td>1.3</td>\n",
              "      <td>4.1</td>\n",
              "      <td>32.9</td>\n",
              "      <td>2.8</td>\n",
              "      <td>3.3</td>\n",
              "      <td>85.0</td>\n",
              "      <td>0.8</td>\n",
              "      <td>1.6</td>\n",
              "      <td>2.4</td>\n",
              "      <td>3.9</td>\n",
              "      <td>1.3</td>\n",
              "      <td>0.1</td>\n",
              "      <td>2.2</td>\n",
              "      <td>1</td>\n",
              "    </tr>\n",
              "    <tr>\n",
              "      <th>4</th>\n",
              "      <td>58.0</td>\n",
              "      <td>18.4</td>\n",
              "      <td>5.8</td>\n",
              "      <td>1.9</td>\n",
              "      <td>5.3</td>\n",
              "      <td>36.7</td>\n",
              "      <td>0.0</td>\n",
              "      <td>0.1</td>\n",
              "      <td>25.0</td>\n",
              "      <td>1.9</td>\n",
              "      <td>3.1</td>\n",
              "      <td>61.7</td>\n",
              "      <td>0.5</td>\n",
              "      <td>0.7</td>\n",
              "      <td>1.2</td>\n",
              "      <td>1.9</td>\n",
              "      <td>1.1</td>\n",
              "      <td>0.2</td>\n",
              "      <td>1.7</td>\n",
              "      <td>0</td>\n",
              "    </tr>\n",
              "  </tbody>\n",
              "</table>\n",
              "</div>\n",
              "      <button class=\"colab-df-convert\" onclick=\"convertToInteractive('df-5e111240-1909-4214-9d50-3c8205cd50cc')\"\n",
              "              title=\"Convert this dataframe to an interactive table.\"\n",
              "              style=\"display:none;\">\n",
              "        \n",
              "  <svg xmlns=\"http://www.w3.org/2000/svg\" height=\"24px\"viewBox=\"0 0 24 24\"\n",
              "       width=\"24px\">\n",
              "    <path d=\"M0 0h24v24H0V0z\" fill=\"none\"/>\n",
              "    <path d=\"M18.56 5.44l.94 2.06.94-2.06 2.06-.94-2.06-.94-.94-2.06-.94 2.06-2.06.94zm-11 1L8.5 8.5l.94-2.06 2.06-.94-2.06-.94L8.5 2.5l-.94 2.06-2.06.94zm10 10l.94 2.06.94-2.06 2.06-.94-2.06-.94-.94-2.06-.94 2.06-2.06.94z\"/><path d=\"M17.41 7.96l-1.37-1.37c-.4-.4-.92-.59-1.43-.59-.52 0-1.04.2-1.43.59L10.3 9.45l-7.72 7.72c-.78.78-.78 2.05 0 2.83L4 21.41c.39.39.9.59 1.41.59.51 0 1.02-.2 1.41-.59l7.78-7.78 2.81-2.81c.8-.78.8-2.07 0-2.86zM5.41 20L4 18.59l7.72-7.72 1.47 1.35L5.41 20z\"/>\n",
              "  </svg>\n",
              "      </button>\n",
              "      \n",
              "  <style>\n",
              "    .colab-df-container {\n",
              "      display:flex;\n",
              "      flex-wrap:wrap;\n",
              "      gap: 12px;\n",
              "    }\n",
              "\n",
              "    .colab-df-convert {\n",
              "      background-color: #E8F0FE;\n",
              "      border: none;\n",
              "      border-radius: 50%;\n",
              "      cursor: pointer;\n",
              "      display: none;\n",
              "      fill: #1967D2;\n",
              "      height: 32px;\n",
              "      padding: 0 0 0 0;\n",
              "      width: 32px;\n",
              "    }\n",
              "\n",
              "    .colab-df-convert:hover {\n",
              "      background-color: #E2EBFA;\n",
              "      box-shadow: 0px 1px 2px rgba(60, 64, 67, 0.3), 0px 1px 3px 1px rgba(60, 64, 67, 0.15);\n",
              "      fill: #174EA6;\n",
              "    }\n",
              "\n",
              "    [theme=dark] .colab-df-convert {\n",
              "      background-color: #3B4455;\n",
              "      fill: #D2E3FC;\n",
              "    }\n",
              "\n",
              "    [theme=dark] .colab-df-convert:hover {\n",
              "      background-color: #434B5C;\n",
              "      box-shadow: 0px 1px 3px 1px rgba(0, 0, 0, 0.15);\n",
              "      filter: drop-shadow(0px 1px 2px rgba(0, 0, 0, 0.3));\n",
              "      fill: #FFFFFF;\n",
              "    }\n",
              "  </style>\n",
              "\n",
              "      <script>\n",
              "        const buttonEl =\n",
              "          document.querySelector('#df-5e111240-1909-4214-9d50-3c8205cd50cc button.colab-df-convert');\n",
              "        buttonEl.style.display =\n",
              "          google.colab.kernel.accessAllowed ? 'block' : 'none';\n",
              "\n",
              "        async function convertToInteractive(key) {\n",
              "          const element = document.querySelector('#df-5e111240-1909-4214-9d50-3c8205cd50cc');\n",
              "          const dataTable =\n",
              "            await google.colab.kernel.invokeFunction('convertToInteractive',\n",
              "                                                     [key], {});\n",
              "          if (!dataTable) return;\n",
              "\n",
              "          const docLinkHtml = 'Like what you see? Visit the ' +\n",
              "            '<a target=\"_blank\" href=https://colab.research.google.com/notebooks/data_table.ipynb>data table notebook</a>'\n",
              "            + ' to learn more about interactive tables.';\n",
              "          element.innerHTML = '';\n",
              "          dataTable['output_type'] = 'display_data';\n",
              "          await google.colab.output.renderOutput(dataTable, element);\n",
              "          const docLink = document.createElement('div');\n",
              "          docLink.innerHTML = docLinkHtml;\n",
              "          element.appendChild(docLink);\n",
              "        }\n",
              "      </script>\n",
              "    </div>\n",
              "  </div>\n",
              "  "
            ]
          },
          "metadata": {},
          "execution_count": 3
        }
      ]
    },
    {
      "cell_type": "markdown",
      "source": [
        "# Preprocessing"
      ],
      "metadata": {
        "id": "Nwn0L1U9Yi0v"
      }
    },
    {
      "cell_type": "code",
      "execution_count": null,
      "metadata": {
        "id": "xRAttXqn71cF"
      },
      "outputs": [],
      "source": [
        "#splitting the features and label training data\n",
        "X_train = train_data.drop(['Target'],axis=1)\n",
        "Y_train = train_data.loc[:,\"Target\"]"
      ]
    },
    {
      "cell_type": "code",
      "source": [
        "#saving the columns names\n",
        "feature_names = X_train.columns"
      ],
      "metadata": {
        "id": "1znzWbH0arfI"
      },
      "execution_count": null,
      "outputs": []
    },
    {
      "cell_type": "code",
      "execution_count": null,
      "metadata": {
        "id": "fASu_JmthJ78"
      },
      "outputs": [],
      "source": [
        "#Using the standard scaling to scale the data. See also MinMaxScalar \n",
        "scaler = StandardScaler()\n",
        "X_train = scaler.fit_transform(X_train)\n",
        "X_train = pd.DataFrame(X_train,columns=feature_names)\n"
      ]
    },
    {
      "cell_type": "code",
      "source": [
        "X_train.head()"
      ],
      "metadata": {
        "colab": {
          "base_uri": "https://localhost:8080/",
          "height": 270
        },
        "id": "KQQ9O0Q0advW",
        "outputId": "796e6e30-131d-4924-c6af-e557cec94af4"
      },
      "execution_count": null,
      "outputs": [
        {
          "output_type": "execute_result",
          "data": {
            "text/plain": [
              "         GP       MIN       PTS       FGM       FGA       FG%   3P Made  \\\n",
              "0 -0.000473 -0.514072 -0.745404 -0.751892 -0.890377  1.161089 -0.115640   \n",
              "1 -1.625635 -0.775573 -0.745404 -0.813974 -0.685743 -1.410938  0.711163   \n",
              "2 -0.638930 -0.949907 -0.481105 -0.503564 -0.656510  0.948119 -0.666842   \n",
              "3  1.218398  1.341341  1.128711  0.613914  1.097498 -1.066909  2.915970   \n",
              "4 -0.058515  0.183264 -0.168753 -0.379399 -0.101074 -1.181585 -0.666842   \n",
              "\n",
              "        3PA       3P%       FTM       FTA       FT%      OREB      DREB  \\\n",
              "0 -0.459753  1.995898 -0.578252 -0.740756  0.723198  0.183866  0.270478   \n",
              "1  1.310589  0.435271 -0.791662 -0.662107 -1.474106 -0.853755 -0.623698   \n",
              "2 -0.656458 -1.228537 -0.044725  0.124385 -0.866957 -0.724053 -0.847242   \n",
              "3  3.277637  0.893141  1.662562  1.225473  1.397808 -0.205242 -0.251125   \n",
              "4 -0.656458  0.383680  0.702213  1.068175 -0.847682 -0.594350 -0.921757   \n",
              "\n",
              "        REB       AST       STL       BLK       TOV  \n",
              "0  0.200157 -0.706926 -0.749803  0.133276 -0.946326  \n",
              "1 -0.731779 -0.779602 -0.749803 -0.583314 -1.382757  \n",
              "2 -0.829877 -0.488897 -0.231630  0.133276 -0.218941  \n",
              "3 -0.241286  1.764064  1.841062 -0.583314  1.526782  \n",
              "4 -0.829877  0.310541  1.322889 -0.344450  0.799398  "
            ],
            "text/html": [
              "\n",
              "  <div id=\"df-1de605f6-9821-47ce-b1bb-b50a5e2cbef7\">\n",
              "    <div class=\"colab-df-container\">\n",
              "      <div>\n",
              "<style scoped>\n",
              "    .dataframe tbody tr th:only-of-type {\n",
              "        vertical-align: middle;\n",
              "    }\n",
              "\n",
              "    .dataframe tbody tr th {\n",
              "        vertical-align: top;\n",
              "    }\n",
              "\n",
              "    .dataframe thead th {\n",
              "        text-align: right;\n",
              "    }\n",
              "</style>\n",
              "<table border=\"1\" class=\"dataframe\">\n",
              "  <thead>\n",
              "    <tr style=\"text-align: right;\">\n",
              "      <th></th>\n",
              "      <th>GP</th>\n",
              "      <th>MIN</th>\n",
              "      <th>PTS</th>\n",
              "      <th>FGM</th>\n",
              "      <th>FGA</th>\n",
              "      <th>FG%</th>\n",
              "      <th>3P Made</th>\n",
              "      <th>3PA</th>\n",
              "      <th>3P%</th>\n",
              "      <th>FTM</th>\n",
              "      <th>FTA</th>\n",
              "      <th>FT%</th>\n",
              "      <th>OREB</th>\n",
              "      <th>DREB</th>\n",
              "      <th>REB</th>\n",
              "      <th>AST</th>\n",
              "      <th>STL</th>\n",
              "      <th>BLK</th>\n",
              "      <th>TOV</th>\n",
              "    </tr>\n",
              "  </thead>\n",
              "  <tbody>\n",
              "    <tr>\n",
              "      <th>0</th>\n",
              "      <td>-0.000473</td>\n",
              "      <td>-0.514072</td>\n",
              "      <td>-0.745404</td>\n",
              "      <td>-0.751892</td>\n",
              "      <td>-0.890377</td>\n",
              "      <td>1.161089</td>\n",
              "      <td>-0.115640</td>\n",
              "      <td>-0.459753</td>\n",
              "      <td>1.995898</td>\n",
              "      <td>-0.578252</td>\n",
              "      <td>-0.740756</td>\n",
              "      <td>0.723198</td>\n",
              "      <td>0.183866</td>\n",
              "      <td>0.270478</td>\n",
              "      <td>0.200157</td>\n",
              "      <td>-0.706926</td>\n",
              "      <td>-0.749803</td>\n",
              "      <td>0.133276</td>\n",
              "      <td>-0.946326</td>\n",
              "    </tr>\n",
              "    <tr>\n",
              "      <th>1</th>\n",
              "      <td>-1.625635</td>\n",
              "      <td>-0.775573</td>\n",
              "      <td>-0.745404</td>\n",
              "      <td>-0.813974</td>\n",
              "      <td>-0.685743</td>\n",
              "      <td>-1.410938</td>\n",
              "      <td>0.711163</td>\n",
              "      <td>1.310589</td>\n",
              "      <td>0.435271</td>\n",
              "      <td>-0.791662</td>\n",
              "      <td>-0.662107</td>\n",
              "      <td>-1.474106</td>\n",
              "      <td>-0.853755</td>\n",
              "      <td>-0.623698</td>\n",
              "      <td>-0.731779</td>\n",
              "      <td>-0.779602</td>\n",
              "      <td>-0.749803</td>\n",
              "      <td>-0.583314</td>\n",
              "      <td>-1.382757</td>\n",
              "    </tr>\n",
              "    <tr>\n",
              "      <th>2</th>\n",
              "      <td>-0.638930</td>\n",
              "      <td>-0.949907</td>\n",
              "      <td>-0.481105</td>\n",
              "      <td>-0.503564</td>\n",
              "      <td>-0.656510</td>\n",
              "      <td>0.948119</td>\n",
              "      <td>-0.666842</td>\n",
              "      <td>-0.656458</td>\n",
              "      <td>-1.228537</td>\n",
              "      <td>-0.044725</td>\n",
              "      <td>0.124385</td>\n",
              "      <td>-0.866957</td>\n",
              "      <td>-0.724053</td>\n",
              "      <td>-0.847242</td>\n",
              "      <td>-0.829877</td>\n",
              "      <td>-0.488897</td>\n",
              "      <td>-0.231630</td>\n",
              "      <td>0.133276</td>\n",
              "      <td>-0.218941</td>\n",
              "    </tr>\n",
              "    <tr>\n",
              "      <th>3</th>\n",
              "      <td>1.218398</td>\n",
              "      <td>1.341341</td>\n",
              "      <td>1.128711</td>\n",
              "      <td>0.613914</td>\n",
              "      <td>1.097498</td>\n",
              "      <td>-1.066909</td>\n",
              "      <td>2.915970</td>\n",
              "      <td>3.277637</td>\n",
              "      <td>0.893141</td>\n",
              "      <td>1.662562</td>\n",
              "      <td>1.225473</td>\n",
              "      <td>1.397808</td>\n",
              "      <td>-0.205242</td>\n",
              "      <td>-0.251125</td>\n",
              "      <td>-0.241286</td>\n",
              "      <td>1.764064</td>\n",
              "      <td>1.841062</td>\n",
              "      <td>-0.583314</td>\n",
              "      <td>1.526782</td>\n",
              "    </tr>\n",
              "    <tr>\n",
              "      <th>4</th>\n",
              "      <td>-0.058515</td>\n",
              "      <td>0.183264</td>\n",
              "      <td>-0.168753</td>\n",
              "      <td>-0.379399</td>\n",
              "      <td>-0.101074</td>\n",
              "      <td>-1.181585</td>\n",
              "      <td>-0.666842</td>\n",
              "      <td>-0.656458</td>\n",
              "      <td>0.383680</td>\n",
              "      <td>0.702213</td>\n",
              "      <td>1.068175</td>\n",
              "      <td>-0.847682</td>\n",
              "      <td>-0.594350</td>\n",
              "      <td>-0.921757</td>\n",
              "      <td>-0.829877</td>\n",
              "      <td>0.310541</td>\n",
              "      <td>1.322889</td>\n",
              "      <td>-0.344450</td>\n",
              "      <td>0.799398</td>\n",
              "    </tr>\n",
              "  </tbody>\n",
              "</table>\n",
              "</div>\n",
              "      <button class=\"colab-df-convert\" onclick=\"convertToInteractive('df-1de605f6-9821-47ce-b1bb-b50a5e2cbef7')\"\n",
              "              title=\"Convert this dataframe to an interactive table.\"\n",
              "              style=\"display:none;\">\n",
              "        \n",
              "  <svg xmlns=\"http://www.w3.org/2000/svg\" height=\"24px\"viewBox=\"0 0 24 24\"\n",
              "       width=\"24px\">\n",
              "    <path d=\"M0 0h24v24H0V0z\" fill=\"none\"/>\n",
              "    <path d=\"M18.56 5.44l.94 2.06.94-2.06 2.06-.94-2.06-.94-.94-2.06-.94 2.06-2.06.94zm-11 1L8.5 8.5l.94-2.06 2.06-.94-2.06-.94L8.5 2.5l-.94 2.06-2.06.94zm10 10l.94 2.06.94-2.06 2.06-.94-2.06-.94-.94-2.06-.94 2.06-2.06.94z\"/><path d=\"M17.41 7.96l-1.37-1.37c-.4-.4-.92-.59-1.43-.59-.52 0-1.04.2-1.43.59L10.3 9.45l-7.72 7.72c-.78.78-.78 2.05 0 2.83L4 21.41c.39.39.9.59 1.41.59.51 0 1.02-.2 1.41-.59l7.78-7.78 2.81-2.81c.8-.78.8-2.07 0-2.86zM5.41 20L4 18.59l7.72-7.72 1.47 1.35L5.41 20z\"/>\n",
              "  </svg>\n",
              "      </button>\n",
              "      \n",
              "  <style>\n",
              "    .colab-df-container {\n",
              "      display:flex;\n",
              "      flex-wrap:wrap;\n",
              "      gap: 12px;\n",
              "    }\n",
              "\n",
              "    .colab-df-convert {\n",
              "      background-color: #E8F0FE;\n",
              "      border: none;\n",
              "      border-radius: 50%;\n",
              "      cursor: pointer;\n",
              "      display: none;\n",
              "      fill: #1967D2;\n",
              "      height: 32px;\n",
              "      padding: 0 0 0 0;\n",
              "      width: 32px;\n",
              "    }\n",
              "\n",
              "    .colab-df-convert:hover {\n",
              "      background-color: #E2EBFA;\n",
              "      box-shadow: 0px 1px 2px rgba(60, 64, 67, 0.3), 0px 1px 3px 1px rgba(60, 64, 67, 0.15);\n",
              "      fill: #174EA6;\n",
              "    }\n",
              "\n",
              "    [theme=dark] .colab-df-convert {\n",
              "      background-color: #3B4455;\n",
              "      fill: #D2E3FC;\n",
              "    }\n",
              "\n",
              "    [theme=dark] .colab-df-convert:hover {\n",
              "      background-color: #434B5C;\n",
              "      box-shadow: 0px 1px 3px 1px rgba(0, 0, 0, 0.15);\n",
              "      filter: drop-shadow(0px 1px 2px rgba(0, 0, 0, 0.3));\n",
              "      fill: #FFFFFF;\n",
              "    }\n",
              "  </style>\n",
              "\n",
              "      <script>\n",
              "        const buttonEl =\n",
              "          document.querySelector('#df-1de605f6-9821-47ce-b1bb-b50a5e2cbef7 button.colab-df-convert');\n",
              "        buttonEl.style.display =\n",
              "          google.colab.kernel.accessAllowed ? 'block' : 'none';\n",
              "\n",
              "        async function convertToInteractive(key) {\n",
              "          const element = document.querySelector('#df-1de605f6-9821-47ce-b1bb-b50a5e2cbef7');\n",
              "          const dataTable =\n",
              "            await google.colab.kernel.invokeFunction('convertToInteractive',\n",
              "                                                     [key], {});\n",
              "          if (!dataTable) return;\n",
              "\n",
              "          const docLinkHtml = 'Like what you see? Visit the ' +\n",
              "            '<a target=\"_blank\" href=https://colab.research.google.com/notebooks/data_table.ipynb>data table notebook</a>'\n",
              "            + ' to learn more about interactive tables.';\n",
              "          element.innerHTML = '';\n",
              "          dataTable['output_type'] = 'display_data';\n",
              "          await google.colab.output.renderOutput(dataTable, element);\n",
              "          const docLink = document.createElement('div');\n",
              "          docLink.innerHTML = docLinkHtml;\n",
              "          element.appendChild(docLink);\n",
              "        }\n",
              "      </script>\n",
              "    </div>\n",
              "  </div>\n",
              "  "
            ]
          },
          "metadata": {},
          "execution_count": 7
        }
      ]
    },
    {
      "cell_type": "code",
      "source": [
        "#Since we use the scaling transformation for the training we have to use same processing for the testing as well.\n",
        "test_data = scaler.fit_transform(test_data)\n",
        "test_data = pd.DataFrame(test_data, columns =feature_names)"
      ],
      "metadata": {
        "id": "TvC5jg6DdC9x"
      },
      "execution_count": null,
      "outputs": []
    },
    {
      "cell_type": "code",
      "source": [
        "test_data.head()"
      ],
      "metadata": {
        "colab": {
          "base_uri": "https://localhost:8080/",
          "height": 270
        },
        "id": "VL45w-updGLD",
        "outputId": "5f1e0d6e-f84a-4ff6-c110-b122e092cfc4"
      },
      "execution_count": null,
      "outputs": [
        {
          "output_type": "execute_result",
          "data": {
            "text/plain": [
              "         GP       MIN       PTS       FGM       FGA       FG%   3P Made  \\\n",
              "0 -0.826912 -0.499044  0.035211  0.007988 -0.002892  0.246415  0.347102   \n",
              "1 -0.427901 -0.990297 -0.930405 -0.951058 -0.867580 -0.812115 -0.441690   \n",
              "2 -0.427901 -0.234523 -0.187624 -0.183822 -0.122159 -0.442470  0.084171   \n",
              "3 -2.479961 -1.141452 -1.128480 -1.142867 -0.927214 -2.828363 -0.704620   \n",
              "4 -1.282926 -0.322696 -0.162864 -0.119885 -0.062526 -0.123231 -0.704620   \n",
              "\n",
              "        3PA       3P%       FTM       FTA       FT%      OREB      DREB  \\\n",
              "0  0.435421  0.877083 -0.134626 -0.001002 -0.512720 -0.177173 -1.006945   \n",
              "1 -0.506750  0.275532 -0.706399 -0.768534 -0.073208 -0.823882 -0.929460   \n",
              "2 -0.035665  0.864006 -0.134626 -0.086283 -0.141577 -0.694540 -0.464554   \n",
              "3 -0.789402 -1.261038 -0.820754 -0.768534 -0.375983 -0.565198 -0.619523   \n",
              "4 -0.695184  2.008261 -0.134626 -0.256846  1.118357  0.210853 -0.387070   \n",
              "\n",
              "        REB       AST       STL       BLK       TOV  \n",
              "0 -0.722524 -0.293500  0.292942 -0.325472 -0.209471  \n",
              "1 -0.924419 -0.445262  0.033427 -0.587339 -0.666970  \n",
              "2 -0.571102  0.465311  0.292942 -0.849206  0.400528  \n",
              "3 -0.672050 -0.748786 -1.264148 -0.587339 -0.209471  \n",
              "4 -0.217784 -0.445262 -0.745118 -0.325472 -0.361970  "
            ],
            "text/html": [
              "\n",
              "  <div id=\"df-dbbc0f61-f0f1-42f0-a670-0bd53ea73108\">\n",
              "    <div class=\"colab-df-container\">\n",
              "      <div>\n",
              "<style scoped>\n",
              "    .dataframe tbody tr th:only-of-type {\n",
              "        vertical-align: middle;\n",
              "    }\n",
              "\n",
              "    .dataframe tbody tr th {\n",
              "        vertical-align: top;\n",
              "    }\n",
              "\n",
              "    .dataframe thead th {\n",
              "        text-align: right;\n",
              "    }\n",
              "</style>\n",
              "<table border=\"1\" class=\"dataframe\">\n",
              "  <thead>\n",
              "    <tr style=\"text-align: right;\">\n",
              "      <th></th>\n",
              "      <th>GP</th>\n",
              "      <th>MIN</th>\n",
              "      <th>PTS</th>\n",
              "      <th>FGM</th>\n",
              "      <th>FGA</th>\n",
              "      <th>FG%</th>\n",
              "      <th>3P Made</th>\n",
              "      <th>3PA</th>\n",
              "      <th>3P%</th>\n",
              "      <th>FTM</th>\n",
              "      <th>FTA</th>\n",
              "      <th>FT%</th>\n",
              "      <th>OREB</th>\n",
              "      <th>DREB</th>\n",
              "      <th>REB</th>\n",
              "      <th>AST</th>\n",
              "      <th>STL</th>\n",
              "      <th>BLK</th>\n",
              "      <th>TOV</th>\n",
              "    </tr>\n",
              "  </thead>\n",
              "  <tbody>\n",
              "    <tr>\n",
              "      <th>0</th>\n",
              "      <td>-0.826912</td>\n",
              "      <td>-0.499044</td>\n",
              "      <td>0.035211</td>\n",
              "      <td>0.007988</td>\n",
              "      <td>-0.002892</td>\n",
              "      <td>0.246415</td>\n",
              "      <td>0.347102</td>\n",
              "      <td>0.435421</td>\n",
              "      <td>0.877083</td>\n",
              "      <td>-0.134626</td>\n",
              "      <td>-0.001002</td>\n",
              "      <td>-0.512720</td>\n",
              "      <td>-0.177173</td>\n",
              "      <td>-1.006945</td>\n",
              "      <td>-0.722524</td>\n",
              "      <td>-0.293500</td>\n",
              "      <td>0.292942</td>\n",
              "      <td>-0.325472</td>\n",
              "      <td>-0.209471</td>\n",
              "    </tr>\n",
              "    <tr>\n",
              "      <th>1</th>\n",
              "      <td>-0.427901</td>\n",
              "      <td>-0.990297</td>\n",
              "      <td>-0.930405</td>\n",
              "      <td>-0.951058</td>\n",
              "      <td>-0.867580</td>\n",
              "      <td>-0.812115</td>\n",
              "      <td>-0.441690</td>\n",
              "      <td>-0.506750</td>\n",
              "      <td>0.275532</td>\n",
              "      <td>-0.706399</td>\n",
              "      <td>-0.768534</td>\n",
              "      <td>-0.073208</td>\n",
              "      <td>-0.823882</td>\n",
              "      <td>-0.929460</td>\n",
              "      <td>-0.924419</td>\n",
              "      <td>-0.445262</td>\n",
              "      <td>0.033427</td>\n",
              "      <td>-0.587339</td>\n",
              "      <td>-0.666970</td>\n",
              "    </tr>\n",
              "    <tr>\n",
              "      <th>2</th>\n",
              "      <td>-0.427901</td>\n",
              "      <td>-0.234523</td>\n",
              "      <td>-0.187624</td>\n",
              "      <td>-0.183822</td>\n",
              "      <td>-0.122159</td>\n",
              "      <td>-0.442470</td>\n",
              "      <td>0.084171</td>\n",
              "      <td>-0.035665</td>\n",
              "      <td>0.864006</td>\n",
              "      <td>-0.134626</td>\n",
              "      <td>-0.086283</td>\n",
              "      <td>-0.141577</td>\n",
              "      <td>-0.694540</td>\n",
              "      <td>-0.464554</td>\n",
              "      <td>-0.571102</td>\n",
              "      <td>0.465311</td>\n",
              "      <td>0.292942</td>\n",
              "      <td>-0.849206</td>\n",
              "      <td>0.400528</td>\n",
              "    </tr>\n",
              "    <tr>\n",
              "      <th>3</th>\n",
              "      <td>-2.479961</td>\n",
              "      <td>-1.141452</td>\n",
              "      <td>-1.128480</td>\n",
              "      <td>-1.142867</td>\n",
              "      <td>-0.927214</td>\n",
              "      <td>-2.828363</td>\n",
              "      <td>-0.704620</td>\n",
              "      <td>-0.789402</td>\n",
              "      <td>-1.261038</td>\n",
              "      <td>-0.820754</td>\n",
              "      <td>-0.768534</td>\n",
              "      <td>-0.375983</td>\n",
              "      <td>-0.565198</td>\n",
              "      <td>-0.619523</td>\n",
              "      <td>-0.672050</td>\n",
              "      <td>-0.748786</td>\n",
              "      <td>-1.264148</td>\n",
              "      <td>-0.587339</td>\n",
              "      <td>-0.209471</td>\n",
              "    </tr>\n",
              "    <tr>\n",
              "      <th>4</th>\n",
              "      <td>-1.282926</td>\n",
              "      <td>-0.322696</td>\n",
              "      <td>-0.162864</td>\n",
              "      <td>-0.119885</td>\n",
              "      <td>-0.062526</td>\n",
              "      <td>-0.123231</td>\n",
              "      <td>-0.704620</td>\n",
              "      <td>-0.695184</td>\n",
              "      <td>2.008261</td>\n",
              "      <td>-0.134626</td>\n",
              "      <td>-0.256846</td>\n",
              "      <td>1.118357</td>\n",
              "      <td>0.210853</td>\n",
              "      <td>-0.387070</td>\n",
              "      <td>-0.217784</td>\n",
              "      <td>-0.445262</td>\n",
              "      <td>-0.745118</td>\n",
              "      <td>-0.325472</td>\n",
              "      <td>-0.361970</td>\n",
              "    </tr>\n",
              "  </tbody>\n",
              "</table>\n",
              "</div>\n",
              "      <button class=\"colab-df-convert\" onclick=\"convertToInteractive('df-dbbc0f61-f0f1-42f0-a670-0bd53ea73108')\"\n",
              "              title=\"Convert this dataframe to an interactive table.\"\n",
              "              style=\"display:none;\">\n",
              "        \n",
              "  <svg xmlns=\"http://www.w3.org/2000/svg\" height=\"24px\"viewBox=\"0 0 24 24\"\n",
              "       width=\"24px\">\n",
              "    <path d=\"M0 0h24v24H0V0z\" fill=\"none\"/>\n",
              "    <path d=\"M18.56 5.44l.94 2.06.94-2.06 2.06-.94-2.06-.94-.94-2.06-.94 2.06-2.06.94zm-11 1L8.5 8.5l.94-2.06 2.06-.94-2.06-.94L8.5 2.5l-.94 2.06-2.06.94zm10 10l.94 2.06.94-2.06 2.06-.94-2.06-.94-.94-2.06-.94 2.06-2.06.94z\"/><path d=\"M17.41 7.96l-1.37-1.37c-.4-.4-.92-.59-1.43-.59-.52 0-1.04.2-1.43.59L10.3 9.45l-7.72 7.72c-.78.78-.78 2.05 0 2.83L4 21.41c.39.39.9.59 1.41.59.51 0 1.02-.2 1.41-.59l7.78-7.78 2.81-2.81c.8-.78.8-2.07 0-2.86zM5.41 20L4 18.59l7.72-7.72 1.47 1.35L5.41 20z\"/>\n",
              "  </svg>\n",
              "      </button>\n",
              "      \n",
              "  <style>\n",
              "    .colab-df-container {\n",
              "      display:flex;\n",
              "      flex-wrap:wrap;\n",
              "      gap: 12px;\n",
              "    }\n",
              "\n",
              "    .colab-df-convert {\n",
              "      background-color: #E8F0FE;\n",
              "      border: none;\n",
              "      border-radius: 50%;\n",
              "      cursor: pointer;\n",
              "      display: none;\n",
              "      fill: #1967D2;\n",
              "      height: 32px;\n",
              "      padding: 0 0 0 0;\n",
              "      width: 32px;\n",
              "    }\n",
              "\n",
              "    .colab-df-convert:hover {\n",
              "      background-color: #E2EBFA;\n",
              "      box-shadow: 0px 1px 2px rgba(60, 64, 67, 0.3), 0px 1px 3px 1px rgba(60, 64, 67, 0.15);\n",
              "      fill: #174EA6;\n",
              "    }\n",
              "\n",
              "    [theme=dark] .colab-df-convert {\n",
              "      background-color: #3B4455;\n",
              "      fill: #D2E3FC;\n",
              "    }\n",
              "\n",
              "    [theme=dark] .colab-df-convert:hover {\n",
              "      background-color: #434B5C;\n",
              "      box-shadow: 0px 1px 3px 1px rgba(0, 0, 0, 0.15);\n",
              "      filter: drop-shadow(0px 1px 2px rgba(0, 0, 0, 0.3));\n",
              "      fill: #FFFFFF;\n",
              "    }\n",
              "  </style>\n",
              "\n",
              "      <script>\n",
              "        const buttonEl =\n",
              "          document.querySelector('#df-dbbc0f61-f0f1-42f0-a670-0bd53ea73108 button.colab-df-convert');\n",
              "        buttonEl.style.display =\n",
              "          google.colab.kernel.accessAllowed ? 'block' : 'none';\n",
              "\n",
              "        async function convertToInteractive(key) {\n",
              "          const element = document.querySelector('#df-dbbc0f61-f0f1-42f0-a670-0bd53ea73108');\n",
              "          const dataTable =\n",
              "            await google.colab.kernel.invokeFunction('convertToInteractive',\n",
              "                                                     [key], {});\n",
              "          if (!dataTable) return;\n",
              "\n",
              "          const docLinkHtml = 'Like what you see? Visit the ' +\n",
              "            '<a target=\"_blank\" href=https://colab.research.google.com/notebooks/data_table.ipynb>data table notebook</a>'\n",
              "            + ' to learn more about interactive tables.';\n",
              "          element.innerHTML = '';\n",
              "          dataTable['output_type'] = 'display_data';\n",
              "          await google.colab.output.renderOutput(dataTable, element);\n",
              "          const docLink = document.createElement('div');\n",
              "          docLink.innerHTML = docLinkHtml;\n",
              "          element.appendChild(docLink);\n",
              "        }\n",
              "      </script>\n",
              "    </div>\n",
              "  </div>\n",
              "  "
            ]
          },
          "metadata": {},
          "execution_count": 9
        }
      ]
    },
    {
      "cell_type": "code",
      "source": [
        "'''\n",
        "Use correlation to see which features are correlated.\n",
        "Remove the high correlated features since they do \n",
        "not add any significant information and making \n",
        "model complex. \n",
        "'''\n",
        "f,ax = plt.subplots(figsize= (18,18))\n",
        "sns.heatmap(X_train.corr(),annot=True,ax=ax,fmt='.1f',linewidths=5)"
      ],
      "metadata": {
        "colab": {
          "base_uri": "https://localhost:8080/",
          "height": 1000
        },
        "id": "l1OUcbRum9-r",
        "outputId": "7e092a2d-ab16-4587-ce4b-3703ef48867b"
      },
      "execution_count": null,
      "outputs": [
        {
          "output_type": "execute_result",
          "data": {
            "text/plain": [
              "<matplotlib.axes._subplots.AxesSubplot at 0x7ff5c9289bd0>"
            ]
          },
          "metadata": {},
          "execution_count": 11
        },
        {
          "output_type": "display_data",
          "data": {
            "text/plain": [
              "<Figure size 1296x1296 with 2 Axes>"
            ],
            "image/png": "[encoded data removed]"
          },
          "metadata": {
            "needs_background": "light"
          }
        }
      ]
    },
    {
      "cell_type": "code",
      "source": [
        "'''\n",
        "One of the pair of the features is removed if the pair has correlation of 1.\n",
        "'''\n",
        "X_train = X_train.drop(['FGA','FGM','3PA','FTM','DREB'],axis=1)\n",
        "test_data = test_data.drop(['FGA','FGM','3PA','FTM','DREB'],axis=1)"
      ],
      "metadata": {
        "id": "2cklTJZpngDt"
      },
      "execution_count": null,
      "outputs": []
    },
    {
      "cell_type": "code",
      "execution_count": null,
      "metadata": {
        "id": "R9_Al1l1hceZ"
      },
      "outputs": [],
      "source": [
        "'''\n",
        "Spling the training data into training and validation dataset to\n",
        "check the beahvior of the model on unseen validation data\n",
        "'''\n",
        "X_training, X_val,Y_training, Y_val = train_test_split(X_train,Y_train , test_size=0.1,shuffle=True)"
      ]
    },
    {
      "cell_type": "markdown",
      "source": [
        "# Model Trainings"
      ],
      "metadata": {
        "id": "00ZjPTC9dpZT"
      }
    },
    {
      "cell_type": "code",
      "execution_count": null,
      "metadata": {
        "id": "Hhbwq5wR9R5C"
      },
      "outputs": [],
      "source": [
        "#initialize Machine learning models\n",
        "model_logistic = LogisticRegression()\n",
        "model_tree = DecisionTreeClassifier()\n",
        "model_forest = RandomForestClassifier()\n",
        "model_linearsvc = LinearSVC()\n",
        "model_gauuss = GaussianNB()\n",
        "mlp = MLPClassifier(hidden_layer_sizes=1, activation = \"logistic\")\n",
        "mlp1 = MLPClassifier(hidden_layer_sizes=100, activation = \"logistic\")\n",
        "mlp2 = MLPClassifier(hidden_layer_sizes=1000, activation = \"logistic\")"
      ]
    },
    {
      "cell_type": "code",
      "execution_count": null,
      "metadata": {
        "colab": {
          "base_uri": "https://localhost:8080/"
        },
        "id": "7WMmF00I9rSD",
        "outputId": "96f0282d-9b96-4217-c03f-eb2642d6f67d"
      },
      "outputs": [
        {
          "output_type": "stream",
          "name": "stderr",
          "text": [
            "/usr/local/lib/python3.7/dist-packages/sklearn/svm/_base.py:1208: ConvergenceWarning: Liblinear failed to converge, increase the number of iterations.\n",
            "  ConvergenceWarning,\n",
            "/usr/local/lib/python3.7/dist-packages/sklearn/neural_network/_multilayer_perceptron.py:696: ConvergenceWarning: Stochastic Optimizer: Maximum iterations (200) reached and the optimization hasn't converged yet.\n",
            "  ConvergenceWarning,\n"
          ]
        },
        {
          "output_type": "execute_result",
          "data": {
            "text/plain": [
              "MLPClassifier(activation='logistic', hidden_layer_sizes=1000)"
            ]
          },
          "metadata": {},
          "execution_count": 15
        }
      ],
      "source": [
        "#Fitting the machine learning models\n",
        "model_logistic.fit(X_training, Y_training)\n",
        "model_tree.fit(X_training, Y_training)\n",
        "model_forest.fit(X_training, Y_training)\n",
        "model_linearsvc.fit(X_training, Y_training)\n",
        "model_gauuss.fit(X_training, Y_training)\n",
        "mlp.fit(X_training, Y_training)\n",
        "mlp1.fit(X_training, Y_training)\n",
        "mlp2.fit(X_training, Y_training)\n",
        "\n"
      ]
    },
    {
      "cell_type": "markdown",
      "source": [
        "# Model Evaluation"
      ],
      "metadata": {
        "id": "LyseqV_GfXfH"
      }
    },
    {
      "cell_type": "code",
      "source": [
        "#Evaluating the model on the training data. Score function gives mean accuracy on training dataset\n",
        "logistic_score = model_logistic.score(X_training, Y_training)\n",
        "tree_score =  model_tree.score(X_training, Y_training)\n",
        "forest_score =  model_forest.score(X_training, Y_training)\n",
        "linearsvc_score =  model_linearsvc.score(X_training, Y_training)\n",
        "gauss_score = model_gauuss.score(X_training, Y_training)\n",
        "mlp_score = mlp.score(X_training, Y_training)\n",
        "mlp1_score = mlp2.score(X_training, Y_training)\n",
        "mlp2_score = mlp2.score(X_training, Y_training)\n"
      ],
      "metadata": {
        "id": "mWumPCufTj3T"
      },
      "execution_count": null,
      "outputs": []
    },
    {
      "cell_type": "code",
      "source": [
        "#saving models scores  in dataframe and sorting them in descending order.\n",
        "results = pd.DataFrame({\n",
        "    'Model': [ 'Logistic Regression','Decision Tree','Random Forest','Support Vector Machines',  \n",
        "               'Naive Bayes', 'mlp-1-layer','mlp-100layers','mlp-1000-layers' \n",
        "              ],\n",
        "    'Score': [logistic_score, tree_score, forest_score, \n",
        "              linearsvc_score, gauss_score, mlp_score, \n",
        "              mlp1_score, mlp2_score]})\n",
        "result_df = results.sort_values(by='Score', ascending=False)\n",
        "result_df = result_df.set_index('Score')\n",
        "result_df"
      ],
      "metadata": {
        "colab": {
          "base_uri": "https://localhost:8080/",
          "height": 332
        },
        "id": "fW4iBMfeUdlH",
        "outputId": "249a87a1-effd-4e61-a31b-70cff0716c03"
      },
      "execution_count": null,
      "outputs": [
        {
          "output_type": "execute_result",
          "data": {
            "text/plain": [
              "                            Model\n",
              "Score                            \n",
              "0.990909            Decision Tree\n",
              "0.990909            Random Forest\n",
              "0.709091      Logistic Regression\n",
              "0.707071  Support Vector Machines\n",
              "0.703030            mlp-100layers\n",
              "0.703030          mlp-1000-layers\n",
              "0.702020              mlp-1-layer\n",
              "0.683838              Naive Bayes"
            ],
            "text/html": [
              "\n",
              "  <div id=\"df-bd12724a-2ade-46c7-a06d-45c655644bcf\">\n",
              "    <div class=\"colab-df-container\">\n",
              "      <div>\n",
              "<style scoped>\n",
              "    .dataframe tbody tr th:only-of-type {\n",
              "        vertical-align: middle;\n",
              "    }\n",
              "\n",
              "    .dataframe tbody tr th {\n",
              "        vertical-align: top;\n",
              "    }\n",
              "\n",
              "    .dataframe thead th {\n",
              "        text-align: right;\n",
              "    }\n",
              "</style>\n",
              "<table border=\"1\" class=\"dataframe\">\n",
              "  <thead>\n",
              "    <tr style=\"text-align: right;\">\n",
              "      <th></th>\n",
              "      <th>Model</th>\n",
              "    </tr>\n",
              "    <tr>\n",
              "      <th>Score</th>\n",
              "      <th></th>\n",
              "    </tr>\n",
              "  </thead>\n",
              "  <tbody>\n",
              "    <tr>\n",
              "      <th>0.990909</th>\n",
              "      <td>Decision Tree</td>\n",
              "    </tr>\n",
              "    <tr>\n",
              "      <th>0.990909</th>\n",
              "      <td>Random Forest</td>\n",
              "    </tr>\n",
              "    <tr>\n",
              "      <th>0.709091</th>\n",
              "      <td>Logistic Regression</td>\n",
              "    </tr>\n",
              "    <tr>\n",
              "      <th>0.707071</th>\n",
              "      <td>Support Vector Machines</td>\n",
              "    </tr>\n",
              "    <tr>\n",
              "      <th>0.703030</th>\n",
              "      <td>mlp-100layers</td>\n",
              "    </tr>\n",
              "    <tr>\n",
              "      <th>0.703030</th>\n",
              "      <td>mlp-1000-layers</td>\n",
              "    </tr>\n",
              "    <tr>\n",
              "      <th>0.702020</th>\n",
              "      <td>mlp-1-layer</td>\n",
              "    </tr>\n",
              "    <tr>\n",
              "      <th>0.683838</th>\n",
              "      <td>Naive Bayes</td>\n",
              "    </tr>\n",
              "  </tbody>\n",
              "</table>\n",
              "</div>\n",
              "      <button class=\"colab-df-convert\" onclick=\"convertToInteractive('df-bd12724a-2ade-46c7-a06d-45c655644bcf')\"\n",
              "              title=\"Convert this dataframe to an interactive table.\"\n",
              "              style=\"display:none;\">\n",
              "        \n",
              "  <svg xmlns=\"http://www.w3.org/2000/svg\" height=\"24px\"viewBox=\"0 0 24 24\"\n",
              "       width=\"24px\">\n",
              "    <path d=\"M0 0h24v24H0V0z\" fill=\"none\"/>\n",
              "    <path d=\"M18.56 5.44l.94 2.06.94-2.06 2.06-.94-2.06-.94-.94-2.06-.94 2.06-2.06.94zm-11 1L8.5 8.5l.94-2.06 2.06-.94-2.06-.94L8.5 2.5l-.94 2.06-2.06.94zm10 10l.94 2.06.94-2.06 2.06-.94-2.06-.94-.94-2.06-.94 2.06-2.06.94z\"/><path d=\"M17.41 7.96l-1.37-1.37c-.4-.4-.92-.59-1.43-.59-.52 0-1.04.2-1.43.59L10.3 9.45l-7.72 7.72c-.78.78-.78 2.05 0 2.83L4 21.41c.39.39.9.59 1.41.59.51 0 1.02-.2 1.41-.59l7.78-7.78 2.81-2.81c.8-.78.8-2.07 0-2.86zM5.41 20L4 18.59l7.72-7.72 1.47 1.35L5.41 20z\"/>\n",
              "  </svg>\n",
              "      </button>\n",
              "      \n",
              "  <style>\n",
              "    .colab-df-container {\n",
              "      display:flex;\n",
              "      flex-wrap:wrap;\n",
              "      gap: 12px;\n",
              "    }\n",
              "\n",
              "    .colab-df-convert {\n",
              "      background-color: #E8F0FE;\n",
              "      border: none;\n",
              "      border-radius: 50%;\n",
              "      cursor: pointer;\n",
              "      display: none;\n",
              "      fill: #1967D2;\n",
              "      height: 32px;\n",
              "      padding: 0 0 0 0;\n",
              "      width: 32px;\n",
              "    }\n",
              "\n",
              "    .colab-df-convert:hover {\n",
              "      background-color: #E2EBFA;\n",
              "      box-shadow: 0px 1px 2px rgba(60, 64, 67, 0.3), 0px 1px 3px 1px rgba(60, 64, 67, 0.15);\n",
              "      fill: #174EA6;\n",
              "    }\n",
              "\n",
              "    [theme=dark] .colab-df-convert {\n",
              "      background-color: #3B4455;\n",
              "      fill: #D2E3FC;\n",
              "    }\n",
              "\n",
              "    [theme=dark] .colab-df-convert:hover {\n",
              "      background-color: #434B5C;\n",
              "      box-shadow: 0px 1px 3px 1px rgba(0, 0, 0, 0.15);\n",
              "      filter: drop-shadow(0px 1px 2px rgba(0, 0, 0, 0.3));\n",
              "      fill: #FFFFFF;\n",
              "    }\n",
              "  </style>\n",
              "\n",
              "      <script>\n",
              "        const buttonEl =\n",
              "          document.querySelector('#df-bd12724a-2ade-46c7-a06d-45c655644bcf button.colab-df-convert');\n",
              "        buttonEl.style.display =\n",
              "          google.colab.kernel.accessAllowed ? 'block' : 'none';\n",
              "\n",
              "        async function convertToInteractive(key) {\n",
              "          const element = document.querySelector('#df-bd12724a-2ade-46c7-a06d-45c655644bcf');\n",
              "          const dataTable =\n",
              "            await google.colab.kernel.invokeFunction('convertToInteractive',\n",
              "                                                     [key], {});\n",
              "          if (!dataTable) return;\n",
              "\n",
              "          const docLinkHtml = 'Like what you see? Visit the ' +\n",
              "            '<a target=\"_blank\" href=https://colab.research.google.com/notebooks/data_table.ipynb>data table notebook</a>'\n",
              "            + ' to learn more about interactive tables.';\n",
              "          element.innerHTML = '';\n",
              "          dataTable['output_type'] = 'display_data';\n",
              "          await google.colab.output.renderOutput(dataTable, element);\n",
              "          const docLink = document.createElement('div');\n",
              "          docLink.innerHTML = docLinkHtml;\n",
              "          element.appendChild(docLink);\n",
              "        }\n",
              "      </script>\n",
              "    </div>\n",
              "  </div>\n",
              "  "
            ]
          },
          "metadata": {},
          "execution_count": 17
        }
      ]
    },
    {
      "cell_type": "code",
      "execution_count": null,
      "metadata": {
        "id": "YuIubGKJ91m_"
      },
      "outputs": [],
      "source": [
        "#Predicting the validation data for all models \n",
        "predict_logistic= model_logistic.predict(X_val)\n",
        "predict_tree = model_tree.predict(X_val)\n",
        "predict_forest = model_forest.predict(X_val)\n",
        "predict_svmlinear = model_linearsvc.predict(X_val)\n",
        "predict_gauss = model_gauuss.predict(X_val)\n",
        "predictions_NN = mlp.predict(X_val)\n",
        "predictions_NN1 = mlp1.predict(X_val)\n",
        "predictions_NN2 = mlp2.predict(X_val)"
      ]
    },
    {
      "cell_type": "code",
      "execution_count": null,
      "metadata": {
        "id": "6EOmmSkgDTIq"
      },
      "outputs": [],
      "source": [
        "#Computing the confusion matrix\n",
        "logistic = confusion_matrix(Y_val,predict_logistic)\n",
        "tree = confusion_matrix(Y_val,predict_tree)\n",
        "forest = confusion_matrix(Y_val,predict_forest)\n",
        "svm = confusion_matrix(Y_val,predict_svmlinear)\n",
        "gauss = confusion_matrix(Y_val,predict_gauss)\n",
        "NN = confusion_matrix(Y_val,predictions_NN)\n",
        "NN1 = confusion_matrix(Y_val,predictions_NN1)\n",
        "NN2 = confusion_matrix(Y_val,predictions_NN2)"
      ]
    },
    {
      "cell_type": "code",
      "execution_count": null,
      "metadata": {
        "colab": {
          "base_uri": "https://localhost:8080/",
          "height": 625
        },
        "id": "KEW1FOpdCeRd",
        "outputId": "6f4eb69e-f3f1-4175-bbba-6396b99e14ac"
      },
      "outputs": [
        {
          "output_type": "execute_result",
          "data": {
            "text/plain": [
              "Text(0.5, 1.0, 'NN2')"
            ]
          },
          "metadata": {},
          "execution_count": 22
        },
        {
          "output_type": "display_data",
          "data": {
            "text/plain": [
              "<Figure size 720x720 with 16 Axes>"
            ],
            "image/png": "[encoded data removed]"
          },
          "metadata": {
            "needs_background": "light"
          }
        }
      ],
      "source": [
        "#Plotting confusion matrix\n",
        "fig, axs = plt.subplots(ncols=2, nrows=4,figsize=(10, 10))\n",
        "logistic= sns.heatmap(logistic, annot=True,cmap='Blues', fmt='g', ax=axs[0,0])\n",
        "logistic.set_title(\"Logistic Regression\")\n",
        "tree = sns.heatmap(tree, annot=True,cmap='Blues', fmt='g',ax=axs[0,1])\n",
        "tree.set_title(\"Tree\")\n",
        "forest = sns.heatmap(forest, annot=True,cmap='Blues', fmt='g',ax=axs[1,0])\n",
        "forest.set_title(\"Forest\")\n",
        "svm =sns.heatmap(svm, annot=True,cmap='Blues', fmt='g',ax=axs[1,1])\n",
        "svm.set_title(\"SVM_Linear\")\n",
        "gauss =sns.heatmap(gauss, annot=True,cmap='Blues', fmt='g',ax=axs[2,0])\n",
        "gauss.set_title(\"Gaussian NB\")\n",
        "NN=sns.heatmap(NN, annot=True,cmap='Blues', fmt='g',ax=axs[2,1])\n",
        "NN.set_title(\"NN\")\n",
        "NN1 = sns.heatmap(NN1, annot=True,cmap='Blues', fmt='g',ax=axs[3,0])\n",
        "NN1.set_title(\"NN1\")\n",
        "NN2 = sns.heatmap(NN2, annot=True,cmap='Blues', fmt='g',ax=axs[3,1])\n",
        "NN2.set_title(\"NN2\")\n"
      ]
    },
    {
      "cell_type": "code",
      "execution_count": null,
      "metadata": {
        "colab": {
          "base_uri": "https://localhost:8080/"
        },
        "id": "D1WejOVrRo2V",
        "outputId": "ee885d12-7398-40dc-c37c-e04c7c98cc97"
      },
      "outputs": [
        {
          "output_type": "stream",
          "name": "stdout",
          "text": [
            "Logistic Regression\n",
            "              precision    recall  f1-score   support\n",
            "\n",
            "           0       0.76      0.61      0.67        61\n",
            "           1       0.61      0.76      0.68        50\n",
            "\n",
            "    accuracy                           0.68       111\n",
            "   macro avg       0.68      0.68      0.68       111\n",
            "weighted avg       0.69      0.68      0.68       111\n",
            "\n",
            "tree\n",
            "              precision    recall  f1-score   support\n",
            "\n",
            "           0       0.67      0.64      0.66        61\n",
            "           1       0.58      0.62      0.60        50\n",
            "\n",
            "    accuracy                           0.63       111\n",
            "   macro avg       0.63      0.63      0.63       111\n",
            "weighted avg       0.63      0.63      0.63       111\n",
            "\n",
            "forest\n",
            "              precision    recall  f1-score   support\n",
            "\n",
            "           0       0.81      0.70      0.75        61\n",
            "           1       0.69      0.80      0.74        50\n",
            "\n",
            "    accuracy                           0.75       111\n",
            "   macro avg       0.75      0.75      0.75       111\n",
            "weighted avg       0.76      0.75      0.75       111\n",
            "\n",
            "svm\n",
            "              precision    recall  f1-score   support\n",
            "\n",
            "           0       0.76      0.61      0.67        61\n",
            "           1       0.61      0.76      0.68        50\n",
            "\n",
            "    accuracy                           0.68       111\n",
            "   macro avg       0.68      0.68      0.68       111\n",
            "weighted avg       0.69      0.68      0.68       111\n",
            "\n",
            "gauss\n",
            "              precision    recall  f1-score   support\n",
            "\n",
            "           0       0.64      0.75      0.69        61\n",
            "           1       0.62      0.48      0.54        50\n",
            "\n",
            "    accuracy                           0.63       111\n",
            "   macro avg       0.63      0.62      0.62       111\n",
            "weighted avg       0.63      0.63      0.62       111\n",
            "\n",
            "NN\n",
            "              precision    recall  f1-score   support\n",
            "\n",
            "           0       0.75      0.69      0.72        61\n",
            "           1       0.65      0.72      0.69        50\n",
            "\n",
            "    accuracy                           0.70       111\n",
            "   macro avg       0.70      0.70      0.70       111\n",
            "weighted avg       0.71      0.70      0.70       111\n",
            "\n",
            "NN1\n",
            "              precision    recall  f1-score   support\n",
            "\n",
            "           0       0.77      0.61      0.68        61\n",
            "           1       0.62      0.78      0.69        50\n",
            "\n",
            "    accuracy                           0.68       111\n",
            "   macro avg       0.69      0.69      0.68       111\n",
            "weighted avg       0.70      0.68      0.68       111\n",
            "\n",
            "NN2\n",
            "              precision    recall  f1-score   support\n",
            "\n",
            "           0       0.80      0.57      0.67        61\n",
            "           1       0.61      0.82      0.70        50\n",
            "\n",
            "    accuracy                           0.68       111\n",
            "   macro avg       0.70      0.70      0.68       111\n",
            "weighted avg       0.71      0.68      0.68       111\n",
            "\n"
          ]
        }
      ],
      "source": [
        "#Printing the classification report.\n",
        "print(\"Logistic Regression\")\n",
        "print(classification_report(Y_val,predict_logistic))\n",
        "print(\"tree\")\n",
        "print( classification_report(Y_val,predict_tree))\n",
        "print(\"forest\")\n",
        "print( classification_report(Y_val,predict_forest))\n",
        "print(\"svm\")\n",
        "print(classification_report(Y_val,predict_svmlinear))\n",
        "print(\"gauss\")\n",
        "print(classification_report(Y_val,predict_gauss))\n",
        "print(\"NN\")\n",
        "print(classification_report(Y_val,predictions_NN))\n",
        "print(\"NN1\")\n",
        "print(classification_report(Y_val,predictions_NN1))\n",
        "print(\"NN2\")\n",
        "print(classification_report(Y_val,predictions_NN2))"
      ]
    },
    {
      "cell_type": "code",
      "source": [
        "#Picking the best model based on classification report\n",
        "best_model = RandomForestClassifier()"
      ],
      "metadata": {
        "id": "kuiG1EjRg76H"
      },
      "execution_count": null,
      "outputs": []
    },
    {
      "cell_type": "code",
      "source": [
        "#Training the best model\n",
        "best_model.fit(X_train, Y_train)"
      ],
      "metadata": {
        "id": "hZMO4UF1h9mX",
        "colab": {
          "base_uri": "https://localhost:8080/"
        },
        "outputId": "41a986a2-c4ea-4f09-fa3c-d0ad456ff72f"
      },
      "execution_count": null,
      "outputs": [
        {
          "output_type": "execute_result",
          "data": {
            "text/plain": [
              "RandomForestClassifier()"
            ]
          },
          "metadata": {},
          "execution_count": 25
        }
      ]
    },
    {
      "cell_type": "code",
      "source": [
        "#Making prediction on best model\n",
        "prediction =  best_model.predict(test_data)"
      ],
      "metadata": {
        "id": "T4jJRSDOiHJR"
      },
      "execution_count": null,
      "outputs": []
    },
    {
      "cell_type": "code",
      "source": [
        "#Saving the prediction on the best model in to CSV file.\n",
        "results=pd.DataFrame({\"label\":prediction})\n",
        "results.to_csv(\"results.csv\",index=False,header=1)"
      ],
      "metadata": {
        "id": "-PPKNI0HiZ9J"
      },
      "execution_count": null,
      "outputs": []
    },
    {
      "cell_type": "code",
      "source": [
        "prediction"
      ],
      "metadata": {
        "id": "j0Cnp-70kknE",
        "colab": {
          "base_uri": "https://localhost:8080/"
        },
        "outputId": "f2c09f47-226d-4e31-cc9b-51ccb5aed978"
      },
      "execution_count": null,
      "outputs": [
        {
          "output_type": "execute_result",
          "data": {
            "text/plain": [
              "array([0, 0, 0, 0, 1, 0, 1, 0, 0, 0, 0, 1, 1, 1, 0, 1, 1, 0, 1, 1, 0, 0,\n",
              "       0, 0, 0, 0, 0, 1, 1, 1, 1, 1, 0, 1, 0, 1, 1, 1, 1, 1, 0, 1, 0, 1,\n",
              "       0, 0, 1, 1, 1, 0, 0, 0, 1, 0, 1, 0, 0, 0, 0, 0, 1, 1, 0, 0, 0, 1,\n",
              "       1, 0, 0, 0, 0, 0, 0, 1, 0, 0, 1, 1, 0, 0, 1, 1, 0, 0, 0, 0, 1, 0,\n",
              "       1, 1, 0, 0, 0, 0, 1, 0, 1, 0, 1, 1, 0, 0, 0, 1, 0, 1, 0, 1, 1, 0,\n",
              "       0, 1, 0, 0, 1, 0, 0, 0, 1, 1, 0, 1, 0, 0, 1, 0, 0, 1, 1, 0, 0, 0,\n",
              "       0, 0, 1, 0, 0, 0, 1, 1, 1, 0, 1, 0, 1, 0, 1, 0, 1, 1, 0, 1, 1, 0,\n",
              "       1, 1, 0, 0, 0, 1, 0, 0, 0, 0, 1, 1, 0, 0, 0, 0, 1, 0, 0, 1, 0, 0,\n",
              "       0, 1, 1, 1, 1, 1, 0, 0, 1, 0, 0, 0, 1, 0, 1, 0, 1, 0, 0, 1, 0, 0,\n",
              "       1, 1, 0, 0, 1, 0, 1, 1, 0, 0, 0, 0, 1, 0, 0, 1, 0, 0, 1, 1, 0, 1,\n",
              "       0, 1, 0, 0, 1, 0, 1, 0, 0, 1, 1, 1, 1, 1, 0, 0, 0, 1, 1, 1, 0, 1,\n",
              "       1, 0, 0, 0, 1, 1, 0, 0, 0, 0, 0, 0, 0, 1, 0, 1, 1, 1, 1, 1, 0, 1,\n",
              "       0, 0, 1, 1, 1, 1, 0, 1, 0, 1, 0, 1, 1, 0, 0, 1, 0, 1, 1, 0, 0, 1,\n",
              "       0, 1, 0, 0, 0, 1, 0, 0, 1, 1, 1, 0, 1, 0, 0, 0, 1, 1, 1, 0, 0, 1,\n",
              "       0, 0, 0, 1, 1, 1, 1, 1, 1, 1, 0, 0, 1, 0, 1, 0, 0, 1, 0, 0, 1, 1,\n",
              "       1, 1, 1, 0, 0, 1, 1, 1, 1, 0, 0, 0, 0, 0, 0, 1, 1, 1, 0, 0, 1, 0,\n",
              "       0, 0, 1, 1, 0, 0, 1, 0, 1, 0, 0, 1, 1, 0, 1, 1, 1, 0, 0, 1, 1, 1,\n",
              "       1, 1, 1, 1, 0, 1, 0, 0, 1, 0, 1, 1, 0, 1, 1, 0, 1, 0, 1, 0, 0, 1,\n",
              "       1, 1, 0, 0, 1, 1, 0, 0, 0, 1, 0, 1, 1, 1, 1, 1, 0, 1, 1, 0, 0, 0,\n",
              "       0, 0, 0, 1, 1, 0, 0, 1, 1, 0, 1, 0, 0, 0, 1, 1, 0, 1, 1, 0, 1, 1,\n",
              "       1, 0, 1, 1, 0, 1, 0, 0, 0, 1, 0, 1, 1, 0, 0, 0, 0, 0, 1, 1, 0, 0,\n",
              "       1, 0, 0, 1, 1, 0, 1, 1, 0, 1, 1, 1, 1, 0, 1, 0, 1, 1, 1, 0, 0, 1,\n",
              "       1, 1, 1, 0, 1, 1, 0, 0, 0, 1, 0, 0, 1, 0, 1, 0, 1, 0, 0, 1, 1, 1,\n",
              "       0, 0, 0, 0, 1, 0, 1, 0, 0, 1, 1, 0, 0, 1, 1, 0, 0, 0, 1, 1, 1, 0,\n",
              "       0, 1, 0, 0, 1, 1, 0, 1, 1, 1, 0, 1, 0, 0, 1, 1, 0, 0, 1, 1, 0, 0,\n",
              "       1, 1, 1, 0, 1])"
            ]
          },
          "metadata": {},
          "execution_count": 28
        }
      ]
    },
    {
      "cell_type": "code",
      "source": [
        "#Download the CSV file.\n",
        "from google.colab import files\n",
        "files.download('results.csv')"
      ],
      "metadata": {
        "id": "GhX1S2A8mZ5m",
        "colab": {
          "base_uri": "https://localhost:8080/",
          "height": 17
        },
        "outputId": "5b314ff9-db6c-4cb3-84d6-2a9fc174e898"
      },
      "execution_count": null,
      "outputs": [
        {
          "output_type": "display_data",
          "data": {
            "text/plain": [
              "<IPython.core.display.Javascript object>"
            ],
            "application/javascript": [
              "\n",
              "    async function download(id, filename, size) {\n",
              "      if (!google.colab.kernel.accessAllowed) {\n",
              "        return;\n",
              "      }\n",
              "      const div = document.createElement('div');\n",
              "      const label = document.createElement('label');\n",
              "      label.textContent = `Downloading \"${filename}\": `;\n",
              "      div.appendChild(label);\n",
              "      const progress = document.createElement('progress');\n",
              "      progress.max = size;\n",
              "      div.appendChild(progress);\n",
              "      document.body.appendChild(div);\n",
              "\n",
              "      const buffers = [];\n",
              "      let downloaded = 0;\n",
              "\n",
              "      const channel = await google.colab.kernel.comms.open(id);\n",
              "      // Send a message to notify the kernel that we're ready.\n",
              "      channel.send({})\n",
              "\n",
              "      for await (const message of channel.messages) {\n",
              "        // Send a message to notify the kernel that we're ready.\n",
              "        channel.send({})\n",
              "        if (message.buffers) {\n",
              "          for (const buffer of message.buffers) {\n",
              "            buffers.push(buffer);\n",
              "            downloaded += buffer.byteLength;\n",
              "            progress.value = downloaded;\n",
              "          }\n",
              "        }\n",
              "      }\n",
              "      const blob = new Blob(buffers, {type: 'application/binary'});\n",
              "      const a = document.createElement('a');\n",
              "      a.href = window.URL.createObjectURL(blob);\n",
              "      a.download = filename;\n",
              "      div.appendChild(a);\n",
              "      a.click();\n",
              "      div.remove();\n",
              "    }\n",
              "  "
            ]
          },
          "metadata": {}
        },
        {
          "output_type": "display_data",
          "data": {
            "text/plain": [
              "<IPython.core.display.Javascript object>"
            ],
            "application/javascript": [
              "download(\"download_0a40cd56-0015-4d77-9010-506359b454b8\", \"results.csv\", 1116)"
            ]
          },
          "metadata": {}
        }
      ]
    },
    {
      "cell_type": "markdown",
      "source": [],
      "metadata": {
        "id": "rN3g1YwmodsZ"
      }
    },
    {
      "cell_type": "markdown",
      "source": [
        "\n",
        "# Other ideas to improve your machinea Learning models.\n",
        "1.   You can use ROC and AUC ROC for model evalution.\n",
        "2.   You can use cross validation which will spliting the dataset into different portion for training and validation.\n",
        "3.   You can use grid search to find optimized parameter/hypder-parameter for a ML Model.\n",
        "4.   You can use mutual information than correlation to know the importance of the features.\n",
        "5.   You can use different UnSuprvised learning techiniques such as PCA to reduce the dimension of your dataset.\n",
        "\n",
        "\n",
        "\n",
        "\n",
        "\n",
        "\n",
        "\n"
      ],
      "metadata": {
        "id": "Kxf9hHQ2V7c3"
      }
    }
  ],
  "metadata": {
    "accelerator": "GPU",
    "colab": {
      "collapsed_sections": [],
      "provenance": [],
      "authorship_tag": "ABX9TyPKFcgK6EGyNiEWaxJ6PAnf",
      "include_colab_link": true
    },
    "kernelspec": {
      "display_name": "Python 3",
      "name": "python3"
    },
    "language_info": {
      "name": "python"
    }
  },
  "nbformat": 4,
  "nbformat_minor": 0
}